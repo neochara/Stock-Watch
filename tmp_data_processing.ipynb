{
 "cells": [
  {
   "cell_type": "markdown",
   "metadata": {},
   "source": [
    "## Fetch Data"
   ]
  },
  {
   "cell_type": "code",
   "execution_count": null,
   "metadata": {},
   "outputs": [],
   "source": [
    "import yfinance as yf\n",
    "from datetime import datetime\n",
    "import pandas as pd\n",
    "from constants import STOCK_DATA_DICT, START_DATE, TODAY, END_DATE\n",
    "import os"
   ]
  },
  {
   "cell_type": "code",
   "execution_count": 8,
   "metadata": {},
   "outputs": [],
   "source": [
    "def fetch_data():\n",
    "    # Check if the 'data' directory exists, raise an error if it doesn't\n",
    "    if not os.path.exists('tmp_data'):\n",
    "        raise FileNotFoundError(\"The 'data' directory does not exist. Please create it before running the script.\")\n",
    "    \n",
    "    for company, stock_symbol in STOCK_DATA_DICT.items():\n",
    "        stock_data = yf.download(stock_symbol, start=START_DATE, end=TODAY)\n",
    "        #stock_data.to_csv(f\"data/{stock_symbol}.csv\")\n",
    "        stock_data.to_csv(f\"tmp_data/{stock_symbol.lower()}_stock.csv\")\n"
   ]
  },
  {
   "cell_type": "code",
   "execution_count": 10,
   "metadata": {},
   "outputs": [],
   "source": [
    "def fetch_data():\n",
    "    # Ensure the 'tmp_data' directory exists\n",
    "    os.makedirs(\"tmp_data\", exist_ok=True)\n",
    "\n",
    "    for company, stock_symbol in STOCK_DATA_DICT.items():\n",
    "        stock_data = yf.download(stock_symbol, start=START_DATE, end=TODAY)\n",
    "        stock_data.to_csv(f\"tmp_data/{stock_symbol.lower()}_stock.csv\")"
   ]
  },
  {
   "cell_type": "code",
   "execution_count": 9,
   "metadata": {},
   "outputs": [
    {
     "name": "stdout",
     "output_type": "stream",
     "text": [
      "data/amzn_stock.csv\n",
      "data/app_stock.csv\n",
      "data/ba_stock.csv\n",
      "data/blk_stock.csv\n",
      "data/cost_stock.csv\n",
      "data/lly_stock.csv\n",
      "data/xom_stock.csv\n",
      "data/gme_stock.csv\n",
      "data/gld_stock.csv\n",
      "data/goog_stock.csv\n",
      "data/msft_stock.csv\n",
      "data/nflx_stock.csv\n",
      "data/nvda_stock.csv\n",
      "data/pltr_stock.csv\n",
      "data/pfe_stock.csv\n",
      "data/tsla_stock.csv\n",
      "data/v_stock.csv\n",
      "data/vlcn_stock.csv\n"
     ]
    }
   ],
   "source": [
    "for company, stock_symbol in STOCK_DATA_DICT.items():\n",
    "    print(f\"data/{stock_symbol.lower()}_stock.csv\")\n"
   ]
  },
  {
   "cell_type": "code",
   "execution_count": null,
   "metadata": {},
   "outputs": [],
   "source": []
  }
 ],
 "metadata": {
  "kernelspec": {
   "display_name": "Python 3",
   "language": "python",
   "name": "python3"
  },
  "language_info": {
   "codemirror_mode": {
    "name": "ipython",
    "version": 3
   },
   "file_extension": ".py",
   "mimetype": "text/x-python",
   "name": "python",
   "nbconvert_exporter": "python",
   "pygments_lexer": "ipython3",
   "version": "3.10.2"
  }
 },
 "nbformat": 4,
 "nbformat_minor": 2
}
