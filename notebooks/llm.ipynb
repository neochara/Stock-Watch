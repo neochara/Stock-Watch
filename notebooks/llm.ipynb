{
 "cells": [
  {
   "cell_type": "code",
   "execution_count": 57,
   "metadata": {},
   "outputs": [],
   "source": [
    "from data_analysis import get_nl_summary, get_description, _get_llm_response\n",
    "import pandas as pd"
   ]
  },
  {
   "cell_type": "code",
   "execution_count": 3,
   "metadata": {},
   "outputs": [
    {
     "name": "stdout",
     "output_type": "stream",
     "text": [
      "dict_keys(['nvda', 'tsla', 'amzn', 'msft', 'cost'])\n"
     ]
    },
    {
     "data": {
      "text/html": [
       "<div>\n",
       "<style scoped>\n",
       "    .dataframe tbody tr th:only-of-type {\n",
       "        vertical-align: middle;\n",
       "    }\n",
       "\n",
       "    .dataframe tbody tr th {\n",
       "        vertical-align: top;\n",
       "    }\n",
       "\n",
       "    .dataframe thead th {\n",
       "        text-align: right;\n",
       "    }\n",
       "</style>\n",
       "<table border=\"1\" class=\"dataframe\">\n",
       "  <thead>\n",
       "    <tr style=\"text-align: right;\">\n",
       "      <th></th>\n",
       "      <th>Open</th>\n",
       "      <th>High</th>\n",
       "      <th>Low</th>\n",
       "      <th>Close</th>\n",
       "      <th>Adj Close</th>\n",
       "      <th>Volume</th>\n",
       "    </tr>\n",
       "  </thead>\n",
       "  <tbody>\n",
       "    <tr>\n",
       "      <th>count</th>\n",
       "      <td>1706.000000</td>\n",
       "      <td>1706.000000</td>\n",
       "      <td>1706.000000</td>\n",
       "      <td>1706.000000</td>\n",
       "      <td>1706.000000</td>\n",
       "      <td>1.706000e+03</td>\n",
       "    </tr>\n",
       "    <tr>\n",
       "      <th>mean</th>\n",
       "      <td>25.360235</td>\n",
       "      <td>25.842122</td>\n",
       "      <td>24.845710</td>\n",
       "      <td>25.369463</td>\n",
       "      <td>25.340507</td>\n",
       "      <td>4.705667e+08</td>\n",
       "    </tr>\n",
       "    <tr>\n",
       "      <th>std</th>\n",
       "      <td>30.084276</td>\n",
       "      <td>30.670110</td>\n",
       "      <td>29.415329</td>\n",
       "      <td>30.075233</td>\n",
       "      <td>30.082945</td>\n",
       "      <td>2.093667e+08</td>\n",
       "    </tr>\n",
       "    <tr>\n",
       "      <th>min</th>\n",
       "      <td>3.162250</td>\n",
       "      <td>3.249500</td>\n",
       "      <td>3.111500</td>\n",
       "      <td>3.177000</td>\n",
       "      <td>3.151646</td>\n",
       "      <td>9.788400e+07</td>\n",
       "    </tr>\n",
       "    <tr>\n",
       "      <th>25%</th>\n",
       "      <td>6.183625</td>\n",
       "      <td>6.250188</td>\n",
       "      <td>6.074687</td>\n",
       "      <td>6.163750</td>\n",
       "      <td>6.119212</td>\n",
       "      <td>3.258720e+08</td>\n",
       "    </tr>\n",
       "    <tr>\n",
       "      <th>50%</th>\n",
       "      <td>14.087625</td>\n",
       "      <td>14.340875</td>\n",
       "      <td>13.770625</td>\n",
       "      <td>14.131500</td>\n",
       "      <td>14.109439</td>\n",
       "      <td>4.344320e+08</td>\n",
       "    </tr>\n",
       "    <tr>\n",
       "      <th>75%</th>\n",
       "      <td>27.292250</td>\n",
       "      <td>27.782001</td>\n",
       "      <td>26.809751</td>\n",
       "      <td>27.341500</td>\n",
       "      <td>27.302633</td>\n",
       "      <td>5.701892e+08</td>\n",
       "    </tr>\n",
       "    <tr>\n",
       "      <th>max</th>\n",
       "      <td>139.800003</td>\n",
       "      <td>140.759995</td>\n",
       "      <td>133.660004</td>\n",
       "      <td>135.580002</td>\n",
       "      <td>135.568405</td>\n",
       "      <td>2.511528e+09</td>\n",
       "    </tr>\n",
       "  </tbody>\n",
       "</table>\n",
       "</div>"
      ],
      "text/plain": [
       "              Open         High          Low        Close    Adj Close  \\\n",
       "count  1706.000000  1706.000000  1706.000000  1706.000000  1706.000000   \n",
       "mean     25.360235    25.842122    24.845710    25.369463    25.340507   \n",
       "std      30.084276    30.670110    29.415329    30.075233    30.082945   \n",
       "min       3.162250     3.249500     3.111500     3.177000     3.151646   \n",
       "25%       6.183625     6.250188     6.074687     6.163750     6.119212   \n",
       "50%      14.087625    14.340875    13.770625    14.131500    14.109439   \n",
       "75%      27.292250    27.782001    26.809751    27.341500    27.302633   \n",
       "max     139.800003   140.759995   133.660004   135.580002   135.568405   \n",
       "\n",
       "             Volume  \n",
       "count  1.706000e+03  \n",
       "mean   4.705667e+08  \n",
       "std    2.093667e+08  \n",
       "min    9.788400e+07  \n",
       "25%    3.258720e+08  \n",
       "50%    4.344320e+08  \n",
       "75%    5.701892e+08  \n",
       "max    2.511528e+09  "
      ]
     },
     "execution_count": 3,
     "metadata": {},
     "output_type": "execute_result"
    }
   ],
   "source": [
    "descr_dict = get_description()\n",
    "\n",
    "print(descr_dict.keys())\n",
    "\n",
    "descr_dict[\"nvda\"]\n",
    "\n"
   ]
  },
  {
   "cell_type": "code",
   "execution_count": 37,
   "metadata": {},
   "outputs": [],
   "source": [
    "#def get_short_description():\n",
    "descr_dict = get_description()\n",
    "indices_to_keep = [\"mean\", \"min\", \"max\", \"std\"]\n",
    "characteristic_to_keep = \"Close\"\n",
    "\n",
    "#restricted_data = {key: df.loc[indices_to_keep] for key, df in descr_dict.items()}\n",
    "restricted_dict = {}\n",
    "for key, df in descr_dict.items():\n",
    "    restricted_dict[key] = df[characteristic_to_keep].loc[indices_to_keep]\n"
   ]
  },
  {
   "cell_type": "code",
   "execution_count": null,
   "metadata": {},
   "outputs": [],
   "source": [
    "restricted_dict"
   ]
  },
  {
   "cell_type": "code",
   "execution_count": 55,
   "metadata": {},
   "outputs": [
    {
     "name": "stdout",
     "output_type": "stream",
     "text": [
      "Here are the statistics for the COST index. The average stock value was approximately $425.58. The minimum and maximum were respectively $178.61 and $917.08, and we observed a standard deviation of approximately $181.24.\n"
     ]
    }
   ],
   "source": [
    "from openai import OpenAI\n",
    "client = OpenAI()\n",
    "\n",
    "restricted_dict\n",
    "idx_queried = \"msft\"\n",
    "idx_queried = \"cost\"\n",
    "\n",
    "df_str = restricted_dict[idx_queried].to_csv(index=True)\n",
    "\n",
    "query_str = f\"\"\"I am providing you with the following summary statistics \\n{df_str}\\n of the {idx_queried.upper()} stock index. \n",
    "Can you give me a description, just like the following:\n",
    "Here are the statistics for the {idx_queried.upper()} index. The average stock value was $XXX. The min and max were respectively $XX and $XX, and we observed a standard deviation of $XXX.\"\"\"\n",
    "#f\"\"\"I am providing you with the following summary statistics \\n{df_str}\\n of the {idx_queried.upper()} stock index. \n",
    "#Can you give me a simple description in a few sentences, staring with:\n",
    "#Here are the statistics for the {idx_queried.upper()} index.\"\"\"\n",
    "\n",
    "\n",
    "completion = client.chat.completions.create(\n",
    "    model=\"gpt-4o-mini\",\n",
    "    messages=[\n",
    "        {\"role\": \"system\", \"content\": \"You are a financial analyst.\"},\n",
    "        {\n",
    "            \"role\": \"user\",\n",
    "            \"content\": query_str\n",
    "        }\n",
    "    ]\n",
    ")\n",
    "\n",
    "print(completion.choices[0].message.content)\n",
    "\n"
   ]
  },
  {
   "cell_type": "markdown",
   "metadata": {},
   "source": [
    "Here are the statistics for the index requested. The average stock value was $XXX. The min and max were respectively $XX and $XX, and we observed a standard deviation of $XXX."
   ]
  },
  {
   "cell_type": "code",
   "execution_count": null,
   "metadata": {},
   "outputs": [],
   "source": []
  },
  {
   "cell_type": "code",
   "execution_count": 48,
   "metadata": {},
   "outputs": [
    {
     "name": "stdout",
     "output_type": "stream",
     "text": [
      "mean    237.383798\n",
      "min      85.010002\n",
      "max     467.559998\n",
      "std     102.133118\n",
      "Name: Close, dtype: float64\n",
      "Here is a summary of a stock:\n",
      "{df_str}\n",
      "\n",
      "Give me a summary of this dataframe\n"
     ]
    }
   ],
   "source": [
    "print(df_str)\n",
    "print(query_str)\n",
    "\n"
   ]
  },
  {
   "cell_type": "code",
   "execution_count": null,
   "metadata": {},
   "outputs": [],
   "source": [
    "\n",
    "query_str = f\"I have a stock with the following characteristics: max: {max_var}, min: {min_var}, volatility: {vol}. Can you summarise this in natural text less than 100 words \"\n",
    "query_str = f\"I have a stock with the following characteristics: {df}. Can you summarise this in natural text less than 100 words \"\n",
    "\n",
    "completion = client.chat.completions.create(\n",
    "    model=\"gpt-4o-mini\",\n",
    "    messages=[\n",
    "        {\"role\": \"system\", \"content\": \"You are a financial analyst.\"},\n",
    "        {\n",
    "            \"role\": \"user\",\n",
    "            \"content\": query_str\n",
    "        }\n",
    "    ]\n",
    ")\n",
    "\n",
    "print(completion.choices[0].message.content)"
   ]
  },
  {
   "cell_type": "code",
   "execution_count": 22,
   "metadata": {},
   "outputs": [
    {
     "data": {
      "text/plain": [
       "Choice(finish_reason='stop', index=0, logprobs=None, message=ChatCompletionMessage(content=\"As of my last update in October 2023, NVIDIA's stock performance had been quite strong throughout the year, largely driven by the growing demand for its graphics processing units (GPUs) in artificial intelligence (AI), gaming, and data center markets. The company saw significant revenue growth and optimism surrounding its AI initiatives contributed to its market valuation.\\n\\nNVIDIA's stock price experienced considerable volatility, typical of tech stocks, but had generally trended upward due to robust earnings reports and positive guidance about future growth. The company was regarded as a key player in the AI sector, which bolstered investor interest.\\n\\nAnalysts frequently updated their ratings and price targets, with many expressing bullish sentiments based on NVIDIA's competitive positioning, product pipeline, and market dynamics.\\n\\nFor the most current and detailed analysis beyond October 2023, I recommend checking the latest financial news, stock market analysis, or official company updates.\", refusal=None, role='assistant', function_call=None, tool_calls=None))"
      ]
     },
     "execution_count": 22,
     "metadata": {},
     "output_type": "execute_result"
    }
   ],
   "source": [
    "completion.choices[0]"
   ]
  },
  {
   "cell_type": "code",
   "execution_count": 31,
   "metadata": {},
   "outputs": [
    {
     "data": {
      "text/plain": [
       "\"As of my last update in October 2023, NVIDIA's stock performance had been quite strong throughout the year, largely driven by the growing demand for its graphics processing units (GPUs) in artificial intelligence (AI), gaming, and data center markets. The company saw significant revenue growth and optimism surrounding its AI initiatives contributed to its market valuation.\\n\\nNVIDIA's stock price experienced considerable volatility, typical of tech stocks, but had generally trended upward due to robust earnings reports and positive guidance about future growth. The company was regarded as a key player in the AI sector, which bolstered investor interest.\\n\\nAnalysts frequently updated their ratings and price targets, with many expressing bullish sentiments based on NVIDIA's competitive positioning, product pipeline, and market dynamics.\\n\\nFor the most current and detailed analysis beyond October 2023, I recommend checking the latest financial news, stock market analysis, or official company updates.\""
      ]
     },
     "execution_count": 31,
     "metadata": {},
     "output_type": "execute_result"
    }
   ],
   "source": [
    "completion.choices[0].message.content"
   ]
  },
  {
   "cell_type": "code",
   "execution_count": 59,
   "metadata": {},
   "outputs": [
    {
     "name": "stdout",
     "output_type": "stream",
     "text": [
      "nvda_stock.csv\n"
     ]
    }
   ],
   "source": [
    "symbol = 'NVDA'\n",
    "file_name = f\"{symbol.lower()}_stock.csv\"\n",
    "print(file_name)"
   ]
  },
  {
   "cell_type": "code",
   "execution_count": null,
   "metadata": {},
   "outputs": [],
   "source": []
  }
 ],
 "metadata": {
  "kernelspec": {
   "display_name": "sw_venv",
   "language": "python",
   "name": "python3"
  },
  "language_info": {
   "codemirror_mode": {
    "name": "ipython",
    "version": 3
   },
   "file_extension": ".py",
   "mimetype": "text/x-python",
   "name": "python",
   "nbconvert_exporter": "python",
   "pygments_lexer": "ipython3",
   "version": "3.10.2"
  }
 },
 "nbformat": 4,
 "nbformat_minor": 2
}
