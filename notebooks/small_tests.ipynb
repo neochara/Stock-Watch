{
 "cells": [
  {
   "cell_type": "code",
   "execution_count": 1,
   "metadata": {},
   "outputs": [],
   "source": [
    "import pandas as pd"
   ]
  },
  {
   "cell_type": "code",
   "execution_count": null,
   "metadata": {},
   "outputs": [
    {
     "data": {
      "text/plain": [
       "Stock Name Dictionary:\n",
       "{'NVDA': 'Nvidia', 'TSLA': 'Tesla', 'AMZN': 'Amazon', 'MSFT': 'Microsoft', 'COST': 'Costco'}\n",
       "NVDA\n",
       "<class 'str'>\n",
       "Nvidia\n",
       "TSLA\n",
       "<class 'str'>\n",
       "Tesla\n",
       "AMZN\n",
       "<class 'str'>\n",
       "Amazon\n",
       "MSFT\n",
       "<class 'str'>\n",
       "Microsoft\n",
       "COST\n",
       "<class 'str'>\n",
       "Costco\n"
      ]
     },
     "metadata": {},
     "output_type": "display_data"
    }
   ],
   "source": [
    "\n",
    "# Data for the DataFrame\n",
    "stock_name_data = {\n",
    "    'Stock Symbol': ['NVDA', 'TSLA', 'AMZN', 'MSFT', 'COST'],\n",
    "    'Company Name': ['Nvidia', 'Tesla', 'Amazon', 'Microsoft', 'Costco']\n",
    "}\n",
    "stock_name_data_dict = {'NVDA':'Nvidia', 'TSLA':'Tesla', 'AMZN':'Amazon', 'MSFT':'Microsoft', 'COST':'Costco'}\n",
    "#stock_list_df = pd.DataFrame(stock_name_data)\n",
    "\n",
    "# Check the DataFrame to ensure it is created correctly\n",
    "print(\"Stock Name Dictionary:\")\n",
    "print(stock_name_data_dict)\n",
    "\n",
    "for stock_idx in stock_name_data_dict:\n",
    "    print(stock_idx)\n",
    "    print(type(stock_idx))\n",
    "    print(stock_name_data_dict[stock_idx])\n",
    "\n"
   ]
  },
  {
   "cell_type": "code",
   "execution_count": null,
   "metadata": {},
   "outputs": [
    {
     "data": {
      "text/plain": [
       "{'NVDA': 'Nvidia', 'TSLA': 'Tesla', 'AMZN': 'Amazon', 'MSFT': 'Microsoft', 'COST': 'Costco'}\n"
      ]
     },
     "metadata": {},
     "output_type": "display_data"
    }
   ],
   "source": [
    "#stock_list_df['Stock Symbol']\n",
    "stock_name_data_dict"
   ]
  },
  {
   "cell_type": "code",
   "execution_count": null,
   "metadata": {},
   "outputs": [],
   "source": []
  }
 ],
 "metadata": {
  "kernelspec": {
   "display_name": "Python 3",
   "language": "python",
   "name": "python3"
  },
  "language_info": {
   "codemirror_mode": {
    "name": "ipython",
    "version": 3
   },
   "file_extension": ".py",
   "mimetype": "text/x-python",
   "name": "python",
   "nbconvert_exporter": "python",
   "pygments_lexer": "ipython3",
   "version": "3.10.2"
  }
 },
 "nbformat": 4,
 "nbformat_minor": 2
}
