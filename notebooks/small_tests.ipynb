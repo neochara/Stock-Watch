{
 "cells": [
  {
   "cell_type": "code",
   "execution_count": 4,
   "metadata": {},
   "outputs": [],
   "source": [
    "import pandas as pd\n",
    "import pandas_ta as ta\n",
    "import yfinance as yf\n",
    "import matplotlib.pyplot as plt\n",
    "# import streamlit as st\n",
    "# from utils import bollinger_bands\n",
    "from data_analysis import get_clean_data\n",
    "import os\n",
    "from datetime import datetime\n",
    "\n",
    "#import plotly.express as px\n",
    "#import plotly.graph_objects as go\n"
   ]
  },
  {
   "cell_type": "code",
   "execution_count": 2,
   "metadata": {},
   "outputs": [],
   "source": [
    "STOCK_NAME_DATA_DICT = {'NVDA':'Nvidia', 'TSLA':'Tesla', 'AMZN':'Amazon', 'MSFT':'Microsoft', 'COST':'Costco', 'GME':'GameStop', 'PFE':'Pfizer Inc', 'LLY':'Eli Lilly And Co'}"
   ]
  },
  {
   "cell_type": "code",
   "execution_count": 3,
   "metadata": {},
   "outputs": [
    {
     "name": "stdout",
     "output_type": "stream",
     "text": [
      "Stock Name Dictionary:\n",
      "{'NVDA': 'Nvidia', 'TSLA': 'Tesla', 'AMZN': 'Amazon', 'MSFT': 'Microsoft', 'COST': 'Costco'}\n",
      "NVDA\n",
      "<class 'str'>\n",
      "Nvidia\n",
      "TSLA\n",
      "<class 'str'>\n",
      "Tesla\n",
      "AMZN\n",
      "<class 'str'>\n",
      "Amazon\n",
      "MSFT\n",
      "<class 'str'>\n",
      "Microsoft\n",
      "COST\n",
      "<class 'str'>\n",
      "Costco\n"
     ]
    }
   ],
   "source": [
    "\n",
    "# Data for the DataFrame\n",
    "stock_name_data = {\n",
    "    'Stock Symbol': ['NVDA', 'TSLA', 'AMZN', 'MSFT', 'COST'],\n",
    "    'Company Name': ['Nvidia', 'Tesla', 'Amazon', 'Microsoft', 'Costco']\n",
    "}\n",
    "stock_name_data_dict = {'NVDA':'Nvidia', 'TSLA':'Tesla', 'AMZN':'Amazon', 'MSFT':'Microsoft', 'COST':'Costco'}\n",
    "#stock_list_df = pd.DataFrame(stock_name_data)\n",
    "\n",
    "# Check the DataFrame to ensure it is created correctly\n",
    "print(\"Stock Name Dictionary:\")\n",
    "print(stock_name_data_dict)\n",
    "\n",
    "for stock_idx in stock_name_data_dict:\n",
    "    print(stock_idx)\n",
    "    print(type(stock_idx))\n",
    "    print(stock_name_data_dict[stock_idx])\n",
    "\n"
   ]
  },
  {
   "cell_type": "code",
   "execution_count": 4,
   "metadata": {},
   "outputs": [
    {
     "data": {
      "text/plain": [
       "{'NVDA': 'Nvidia',\n",
       " 'TSLA': 'Tesla',\n",
       " 'AMZN': 'Amazon',\n",
       " 'MSFT': 'Microsoft',\n",
       " 'COST': 'Costco'}"
      ]
     },
     "execution_count": 4,
     "metadata": {},
     "output_type": "execute_result"
    }
   ],
   "source": [
    "#stock_list_df['Stock Symbol']\n",
    "stock_name_data_dict"
   ]
  },
  {
   "cell_type": "code",
   "execution_count": 5,
   "metadata": {},
   "outputs": [],
   "source": [
    "stock_data_dict = {'Nvidia':'NVDA', 'Tesla':'TSLA', 'Amazon':'AMZN', 'Microsoft':'MSFT', 'Costco':'COST', 'GameStop':'GME', 'Pfizer Inc':'PFE', 'Eli Lilly And Co':'LLY'}\n"
   ]
  },
  {
   "cell_type": "code",
   "execution_count": 6,
   "metadata": {},
   "outputs": [
    {
     "name": "stdout",
     "output_type": "stream",
     "text": [
      "NVDA\n",
      "Company = Nvidia\n",
      "TSLA\n",
      "Company = Tesla\n",
      "AMZN\n",
      "Company = Amazon\n",
      "MSFT\n",
      "Company = Microsoft\n",
      "COST\n",
      "Company = Costco\n",
      "GME\n",
      "Company = GameStop\n",
      "PFE\n",
      "Company = Pfizer Inc\n",
      "LLY\n",
      "Company = Eli Lilly And Co\n"
     ]
    },
    {
     "data": {
      "text/plain": [
       "str"
      ]
     },
     "execution_count": 6,
     "metadata": {},
     "output_type": "execute_result"
    }
   ],
   "source": [
    "for company, symbol in stock_data_dict.items():\n",
    "  print(symbol)\n",
    "  print(f'Company =',company)\n",
    "\n",
    "type(company)"
   ]
  },
  {
   "cell_type": "code",
   "execution_count": 7,
   "metadata": {},
   "outputs": [],
   "source": [
    "stocks_dfs_dict = get_clean_data()\n"
   ]
  },
  {
   "cell_type": "markdown",
   "metadata": {},
   "source": [
    "## Bollinger Band"
   ]
  },
  {
   "cell_type": "code",
   "execution_count": 8,
   "metadata": {},
   "outputs": [],
   "source": [
    "def bollinger_bands(df, window=20, num_std=2):\n",
    "    # Calculate rolling mean and rolling standard deviation\n",
    "    df['Rolling Mean'] = df.rolling(window=window).mean()\n",
    "    df['Rolling Std'] = df.rolling(window=window).std()\n",
    "\n",
    "    # Calculate Bollinger Bands\n",
    "    df['Upper Band'] = df['Rolling Mean'] + (df['Rolling Std'] * num_std)\n",
    "    df['Lower Band'] = df['Rolling Mean'] - (df['Rolling Std'] * num_std)\n",
    "    return df"
   ]
  },
  {
   "cell_type": "code",
   "execution_count": 9,
   "metadata": {},
   "outputs": [
    {
     "name": "stderr",
     "output_type": "stream",
     "text": [
      "[*********************100%%**********************]  1 of 1 completed\n"
     ]
    },
    {
     "ename": "ValueError",
     "evalue": "Cannot set a DataFrame with multiple columns to the single column Rolling Mean",
     "output_type": "error",
     "traceback": [
      "\u001b[0;31m---------------------------------------------------------------------------\u001b[0m",
      "\u001b[0;31mValueError\u001b[0m                                Traceback (most recent call last)",
      "Input \u001b[0;32mIn [9]\u001b[0m, in \u001b[0;36m<module>\u001b[0;34m\u001b[0m\n\u001b[1;32m      9\u001b[0m df \u001b[38;5;241m=\u001b[39m yf\u001b[38;5;241m.\u001b[39mdownload(ticker, period\u001b[38;5;241m=\u001b[39m\u001b[38;5;124m'\u001b[39m\u001b[38;5;124m1y\u001b[39m\u001b[38;5;124m'\u001b[39m, interval\u001b[38;5;241m=\u001b[39m\u001b[38;5;124m'\u001b[39m\u001b[38;5;124m1d\u001b[39m\u001b[38;5;124m'\u001b[39m)\n\u001b[1;32m     11\u001b[0m \u001b[38;5;66;03m# Calculate Bollinger Bands\u001b[39;00m\n\u001b[0;32m---> 12\u001b[0m df \u001b[38;5;241m=\u001b[39m \u001b[43mbollinger_bands\u001b[49m\u001b[43m(\u001b[49m\u001b[43mdf\u001b[49m\u001b[43m)\u001b[49m\n\u001b[1;32m     14\u001b[0m \u001b[38;5;66;03m# Plot the stock data and Bollinger Bands\u001b[39;00m\n\u001b[1;32m     15\u001b[0m fig, ax \u001b[38;5;241m=\u001b[39m plt\u001b[38;5;241m.\u001b[39msubplots(figsize\u001b[38;5;241m=\u001b[39m(\u001b[38;5;241m10\u001b[39m, \u001b[38;5;241m6\u001b[39m))\n",
      "Input \u001b[0;32mIn [8]\u001b[0m, in \u001b[0;36mbollinger_bands\u001b[0;34m(df, window, num_std)\u001b[0m\n\u001b[1;32m      1\u001b[0m \u001b[38;5;28;01mdef\u001b[39;00m \u001b[38;5;21mbollinger_bands\u001b[39m(df, window\u001b[38;5;241m=\u001b[39m\u001b[38;5;241m20\u001b[39m, num_std\u001b[38;5;241m=\u001b[39m\u001b[38;5;241m2\u001b[39m):\n\u001b[1;32m      2\u001b[0m     \u001b[38;5;66;03m# Calculate rolling mean and rolling standard deviation\u001b[39;00m\n\u001b[0;32m----> 3\u001b[0m     df[\u001b[38;5;124m'\u001b[39m\u001b[38;5;124mRolling Mean\u001b[39m\u001b[38;5;124m'\u001b[39m] \u001b[38;5;241m=\u001b[39m df\u001b[38;5;241m.\u001b[39mrolling(window\u001b[38;5;241m=\u001b[39mwindow)\u001b[38;5;241m.\u001b[39mmean()\n\u001b[1;32m      4\u001b[0m     df[\u001b[38;5;124m'\u001b[39m\u001b[38;5;124mRolling Std\u001b[39m\u001b[38;5;124m'\u001b[39m] \u001b[38;5;241m=\u001b[39m df\u001b[38;5;241m.\u001b[39mrolling(window\u001b[38;5;241m=\u001b[39mwindow)\u001b[38;5;241m.\u001b[39mstd()\n\u001b[1;32m      6\u001b[0m     \u001b[38;5;66;03m# Calculate Bollinger Bands\u001b[39;00m\n",
      "File \u001b[0;32m/Library/Frameworks/Python.framework/Versions/3.10/lib/python3.10/site-packages/pandas/core/frame.py:4301\u001b[0m, in \u001b[0;36mDataFrame.__setitem__\u001b[0;34m(self, key, value)\u001b[0m\n\u001b[1;32m   4299\u001b[0m     \u001b[38;5;28mself\u001b[39m\u001b[38;5;241m.\u001b[39m_setitem_array(key, value)\n\u001b[1;32m   4300\u001b[0m \u001b[38;5;28;01melif\u001b[39;00m \u001b[38;5;28misinstance\u001b[39m(value, DataFrame):\n\u001b[0;32m-> 4301\u001b[0m     \u001b[38;5;28;43mself\u001b[39;49m\u001b[38;5;241;43m.\u001b[39;49m\u001b[43m_set_item_frame_value\u001b[49m\u001b[43m(\u001b[49m\u001b[43mkey\u001b[49m\u001b[43m,\u001b[49m\u001b[43m \u001b[49m\u001b[43mvalue\u001b[49m\u001b[43m)\u001b[49m\n\u001b[1;32m   4302\u001b[0m \u001b[38;5;28;01melif\u001b[39;00m (\n\u001b[1;32m   4303\u001b[0m     is_list_like(value)\n\u001b[1;32m   4304\u001b[0m     \u001b[38;5;129;01mand\u001b[39;00m \u001b[38;5;129;01mnot\u001b[39;00m \u001b[38;5;28mself\u001b[39m\u001b[38;5;241m.\u001b[39mcolumns\u001b[38;5;241m.\u001b[39mis_unique\n\u001b[1;32m   4305\u001b[0m     \u001b[38;5;129;01mand\u001b[39;00m \u001b[38;5;241m1\u001b[39m \u001b[38;5;241m<\u001b[39m \u001b[38;5;28mlen\u001b[39m(\u001b[38;5;28mself\u001b[39m\u001b[38;5;241m.\u001b[39mcolumns\u001b[38;5;241m.\u001b[39mget_indexer_for([key])) \u001b[38;5;241m==\u001b[39m \u001b[38;5;28mlen\u001b[39m(value)\n\u001b[1;32m   4306\u001b[0m ):\n\u001b[1;32m   4307\u001b[0m     \u001b[38;5;66;03m# Column to set is duplicated\u001b[39;00m\n\u001b[1;32m   4308\u001b[0m     \u001b[38;5;28mself\u001b[39m\u001b[38;5;241m.\u001b[39m_setitem_array([key], value)\n",
      "File \u001b[0;32m/Library/Frameworks/Python.framework/Versions/3.10/lib/python3.10/site-packages/pandas/core/frame.py:4459\u001b[0m, in \u001b[0;36mDataFrame._set_item_frame_value\u001b[0;34m(self, key, value)\u001b[0m\n\u001b[1;32m   4456\u001b[0m     \u001b[38;5;28;01mreturn\u001b[39;00m \u001b[38;5;28mself\u001b[39m\u001b[38;5;241m.\u001b[39misetitem(locs, value)\n\u001b[1;32m   4458\u001b[0m \u001b[38;5;28;01mif\u001b[39;00m \u001b[38;5;28mlen\u001b[39m(value\u001b[38;5;241m.\u001b[39mcolumns) \u001b[38;5;241m>\u001b[39m \u001b[38;5;241m1\u001b[39m:\n\u001b[0;32m-> 4459\u001b[0m     \u001b[38;5;28;01mraise\u001b[39;00m \u001b[38;5;167;01mValueError\u001b[39;00m(\n\u001b[1;32m   4460\u001b[0m         \u001b[38;5;124m\"\u001b[39m\u001b[38;5;124mCannot set a DataFrame with multiple columns to the single \u001b[39m\u001b[38;5;124m\"\u001b[39m\n\u001b[1;32m   4461\u001b[0m         \u001b[38;5;124mf\u001b[39m\u001b[38;5;124m\"\u001b[39m\u001b[38;5;124mcolumn \u001b[39m\u001b[38;5;132;01m{\u001b[39;00mkey\u001b[38;5;132;01m}\u001b[39;00m\u001b[38;5;124m\"\u001b[39m\n\u001b[1;32m   4462\u001b[0m     )\n\u001b[1;32m   4463\u001b[0m \u001b[38;5;28;01melif\u001b[39;00m \u001b[38;5;28mlen\u001b[39m(value\u001b[38;5;241m.\u001b[39mcolumns) \u001b[38;5;241m==\u001b[39m \u001b[38;5;241m0\u001b[39m:\n\u001b[1;32m   4464\u001b[0m     \u001b[38;5;28;01mraise\u001b[39;00m \u001b[38;5;167;01mValueError\u001b[39;00m(\n\u001b[1;32m   4465\u001b[0m         \u001b[38;5;124mf\u001b[39m\u001b[38;5;124m\"\u001b[39m\u001b[38;5;124mCannot set a DataFrame without columns to the column \u001b[39m\u001b[38;5;132;01m{\u001b[39;00mkey\u001b[38;5;132;01m}\u001b[39;00m\u001b[38;5;124m\"\u001b[39m\n\u001b[1;32m   4466\u001b[0m     )\n",
      "\u001b[0;31mValueError\u001b[0m: Cannot set a DataFrame with multiple columns to the single column Rolling Mean"
     ]
    }
   ],
   "source": [
    "# Streamlit App\n",
    "#st.title('Bollinger Bands Visualization')\n",
    "\n",
    "# Select a stock ticker\n",
    "#ticker = st.text_input('Enter Stock Ticker (e.g., AAPL, MSFT, TSLA):', 'AAPL')\n",
    "ticker = 'NVDA'\n",
    "\n",
    "# Fetch stock data from Yahoo Finance\n",
    "df = yf.download(ticker, period='1y', interval='1d')\n",
    "\n",
    "# Calculate Bollinger Bands\n",
    "df = bollinger_bands(df)\n",
    "\n",
    "# Plot the stock data and Bollinger Bands\n",
    "fig, ax = plt.subplots(figsize=(10, 6))\n",
    "\n",
    "# Plot Close price\n",
    "ax.plot(df.index, df['Close'], label='Close Price', color='blue')\n",
    "\n",
    "# Plot Bollinger Bands\n",
    "ax.plot(df.index, df['Upper Band'], label='Upper Band', color='red', linestyle='--')\n",
    "ax.plot(df.index, df['Lower Band'], label='Lower Band', color='green', linestyle='--')\n",
    "ax.plot(df.index, df['Rolling Mean'], label='Rolling Mean', color='orange', linestyle='--')\n",
    "\n",
    "# Add title and labels\n",
    "ax.set_title(f'{ticker} Bollinger Bands', fontsize=16)\n",
    "ax.set_xlabel('Date')\n",
    "ax.set_ylabel('Price (USD)')\n",
    "ax.legend(loc='best')\n",
    "\n",
    "# Display plot in Streamlit\n",
    "#st.pyplot(fig)"
   ]
  },
  {
   "cell_type": "markdown",
   "metadata": {},
   "source": [
    "## Test data"
   ]
  },
  {
   "cell_type": "code",
   "execution_count": 19,
   "metadata": {},
   "outputs": [
    {
     "name": "stdout",
     "output_type": "stream",
     "text": [
      "                 Open       High        Low      Close  Adj Close     Volume\n",
      "Date                                                                        \n",
      "2023-11-24  48.470001  48.921001  47.744999  47.776001  47.761551  294645000\n",
      "2023-11-27  47.799999  48.529999  47.652000  48.242001  48.227409  395662000\n",
      "2023-11-28  48.236000  48.323002  47.473000  47.820999  47.806534  401491000\n",
      "2023-11-29  48.379002  48.762001  47.860001  48.139999  48.125439  382005000\n",
      "2023-11-30  48.023998  48.110001  46.422001  46.770000  46.755856  526247000\n"
     ]
    }
   ],
   "source": [
    "csv_file_path = '../data/NFLX.csv'\n",
    "df_NFLX = pd.read_csv(csv_file_path)\n",
    "print(df.head())"
   ]
  },
  {
   "cell_type": "code",
   "execution_count": 18,
   "metadata": {},
   "outputs": [
    {
     "name": "stdout",
     "output_type": "stream",
     "text": [
      "Current Directory: /Users/neo_chara/Desktop/Projects/Stock-Watch/notebooks\n"
     ]
    }
   ],
   "source": [
    "current_directory = os.getcwd()\n",
    "print(f\"Current Directory: {current_directory}\")"
   ]
  },
  {
   "cell_type": "code",
   "execution_count": 22,
   "metadata": {},
   "outputs": [
    {
     "name": "stdout",
     "output_type": "stream",
     "text": [
      "df_MSFT Size: 1736 rows and 7 columns\n",
      "df_MSFT Size: 1713 rows and 7 columns\n"
     ]
    }
   ],
   "source": [
    "MSFT_csv_path = '../data/MSFT.csv'\n",
    "df_MSFT = pd.read_csv(MSFT_csv_path)\n",
    "rows1, cols1 = df_MSFT.shape\n",
    "print(f\"df_MSFT Size: {rows1} rows and {cols1} columns\")\n",
    "\n",
    "msft_csv_path = '../data/msft_stock.csv'\n",
    "df_msft = pd.read_csv(msft_csv_path)\n",
    "rows2, cols2 = df_msft.shape\n",
    "print(f\"df_MSFT Size: {rows2} rows and {cols2} columns\")"
   ]
  },
  {
   "cell_type": "code",
   "execution_count": null,
   "metadata": {},
   "outputs": [],
   "source": [
    "rows, cols = df.shape\n",
    "print(f\"DataFrame Size: {rows} rows and {cols} columns\")"
   ]
  },
  {
   "cell_type": "code",
   "execution_count": null,
   "metadata": {},
   "outputs": [
    {
     "data": {
      "application/vnd.plotly.v1+json": {
       "config": {
        "plotlyServerURL": "https://plot.ly"
       },
       "data": [
        {
         "hovertemplate": "variable=Equity<br>Date=%{x}<br>value=%{y}<extra></extra>",
         "legendgroup": "Equity",
         "line": {
          "color": "#636efa",
          "dash": "solid"
         },
         "marker": {
          "symbol": "circle"
         },
         "mode": "lines",
         "name": "Equity",
         "orientation": "v",
         "showlegend": true,
         "type": "scatter",
         "x": [
          "2023-01-01T00:00:00.000000000",
          "2023-01-02T00:00:00.000000000",
          "2023-01-03T00:00:00.000000000",
          "2023-01-04T00:00:00.000000000",
          "2023-01-05T00:00:00.000000000",
          "2023-01-06T00:00:00.000000000",
          "2023-01-07T00:00:00.000000000",
          "2023-01-08T00:00:00.000000000",
          "2023-01-09T00:00:00.000000000",
          "2023-01-10T00:00:00.000000000"
         ],
         "xaxis": "x",
         "y": {
          "bdata": "ZABpAG4AawBzAHgAfQCCAIAAhwA=",
          "dtype": "i2"
         },
         "yaxis": "y"
        },
        {
         "hovertemplate": "variable=Bonds<br>Date=%{x}<br>value=%{y}<extra></extra>",
         "legendgroup": "Bonds",
         "line": {
          "color": "#EF553B",
          "dash": "solid"
         },
         "marker": {
          "symbol": "circle"
         },
         "mode": "lines",
         "name": "Bonds",
         "orientation": "v",
         "showlegend": true,
         "type": "scatter",
         "x": [
          "2023-01-01T00:00:00.000000000",
          "2023-01-02T00:00:00.000000000",
          "2023-01-03T00:00:00.000000000",
          "2023-01-04T00:00:00.000000000",
          "2023-01-05T00:00:00.000000000",
          "2023-01-06T00:00:00.000000000",
          "2023-01-07T00:00:00.000000000",
          "2023-01-08T00:00:00.000000000",
          "2023-01-09T00:00:00.000000000",
          "2023-01-10T00:00:00.000000000"
         ],
         "xaxis": "x",
         "y": {
          "bdata": "MjQ1Njg6Ozw9Pw==",
          "dtype": "i1"
         },
         "yaxis": "y"
        }
       ],
       "layout": {
        "legend": {
         "title": {
          "text": "variable"
         },
         "tracegroupgap": 0
        },
        "template": {
         "data": {
          "bar": [
           {
            "error_x": {
             "color": "#2a3f5f"
            },
            "error_y": {
             "color": "#2a3f5f"
            },
            "marker": {
             "line": {
              "color": "#E5ECF6",
              "width": 0.5
             },
             "pattern": {
              "fillmode": "overlay",
              "size": 10,
              "solidity": 0.2
             }
            },
            "type": "bar"
           }
          ],
          "barpolar": [
           {
            "marker": {
             "line": {
              "color": "#E5ECF6",
              "width": 0.5
             },
             "pattern": {
              "fillmode": "overlay",
              "size": 10,
              "solidity": 0.2
             }
            },
            "type": "barpolar"
           }
          ],
          "carpet": [
           {
            "aaxis": {
             "endlinecolor": "#2a3f5f",
             "gridcolor": "white",
             "linecolor": "white",
             "minorgridcolor": "white",
             "startlinecolor": "#2a3f5f"
            },
            "baxis": {
             "endlinecolor": "#2a3f5f",
             "gridcolor": "white",
             "linecolor": "white",
             "minorgridcolor": "white",
             "startlinecolor": "#2a3f5f"
            },
            "type": "carpet"
           }
          ],
          "choropleth": [
           {
            "colorbar": {
             "outlinewidth": 0,
             "ticks": ""
            },
            "type": "choropleth"
           }
          ],
          "contour": [
           {
            "colorbar": {
             "outlinewidth": 0,
             "ticks": ""
            },
            "colorscale": [
             [
              0,
              "#0d0887"
             ],
             [
              0.1111111111111111,
              "#46039f"
             ],
             [
              0.2222222222222222,
              "#7201a8"
             ],
             [
              0.3333333333333333,
              "#9c179e"
             ],
             [
              0.4444444444444444,
              "#bd3786"
             ],
             [
              0.5555555555555556,
              "#d8576b"
             ],
             [
              0.6666666666666666,
              "#ed7953"
             ],
             [
              0.7777777777777778,
              "#fb9f3a"
             ],
             [
              0.8888888888888888,
              "#fdca26"
             ],
             [
              1,
              "#f0f921"
             ]
            ],
            "type": "contour"
           }
          ],
          "contourcarpet": [
           {
            "colorbar": {
             "outlinewidth": 0,
             "ticks": ""
            },
            "type": "contourcarpet"
           }
          ],
          "heatmap": [
           {
            "colorbar": {
             "outlinewidth": 0,
             "ticks": ""
            },
            "colorscale": [
             [
              0,
              "#0d0887"
             ],
             [
              0.1111111111111111,
              "#46039f"
             ],
             [
              0.2222222222222222,
              "#7201a8"
             ],
             [
              0.3333333333333333,
              "#9c179e"
             ],
             [
              0.4444444444444444,
              "#bd3786"
             ],
             [
              0.5555555555555556,
              "#d8576b"
             ],
             [
              0.6666666666666666,
              "#ed7953"
             ],
             [
              0.7777777777777778,
              "#fb9f3a"
             ],
             [
              0.8888888888888888,
              "#fdca26"
             ],
             [
              1,
              "#f0f921"
             ]
            ],
            "type": "heatmap"
           }
          ],
          "histogram": [
           {
            "marker": {
             "pattern": {
              "fillmode": "overlay",
              "size": 10,
              "solidity": 0.2
             }
            },
            "type": "histogram"
           }
          ],
          "histogram2d": [
           {
            "colorbar": {
             "outlinewidth": 0,
             "ticks": ""
            },
            "colorscale": [
             [
              0,
              "#0d0887"
             ],
             [
              0.1111111111111111,
              "#46039f"
             ],
             [
              0.2222222222222222,
              "#7201a8"
             ],
             [
              0.3333333333333333,
              "#9c179e"
             ],
             [
              0.4444444444444444,
              "#bd3786"
             ],
             [
              0.5555555555555556,
              "#d8576b"
             ],
             [
              0.6666666666666666,
              "#ed7953"
             ],
             [
              0.7777777777777778,
              "#fb9f3a"
             ],
             [
              0.8888888888888888,
              "#fdca26"
             ],
             [
              1,
              "#f0f921"
             ]
            ],
            "type": "histogram2d"
           }
          ],
          "histogram2dcontour": [
           {
            "colorbar": {
             "outlinewidth": 0,
             "ticks": ""
            },
            "colorscale": [
             [
              0,
              "#0d0887"
             ],
             [
              0.1111111111111111,
              "#46039f"
             ],
             [
              0.2222222222222222,
              "#7201a8"
             ],
             [
              0.3333333333333333,
              "#9c179e"
             ],
             [
              0.4444444444444444,
              "#bd3786"
             ],
             [
              0.5555555555555556,
              "#d8576b"
             ],
             [
              0.6666666666666666,
              "#ed7953"
             ],
             [
              0.7777777777777778,
              "#fb9f3a"
             ],
             [
              0.8888888888888888,
              "#fdca26"
             ],
             [
              1,
              "#f0f921"
             ]
            ],
            "type": "histogram2dcontour"
           }
          ],
          "mesh3d": [
           {
            "colorbar": {
             "outlinewidth": 0,
             "ticks": ""
            },
            "type": "mesh3d"
           }
          ],
          "parcoords": [
           {
            "line": {
             "colorbar": {
              "outlinewidth": 0,
              "ticks": ""
             }
            },
            "type": "parcoords"
           }
          ],
          "pie": [
           {
            "automargin": true,
            "type": "pie"
           }
          ],
          "scatter": [
           {
            "fillpattern": {
             "fillmode": "overlay",
             "size": 10,
             "solidity": 0.2
            },
            "type": "scatter"
           }
          ],
          "scatter3d": [
           {
            "line": {
             "colorbar": {
              "outlinewidth": 0,
              "ticks": ""
             }
            },
            "marker": {
             "colorbar": {
              "outlinewidth": 0,
              "ticks": ""
             }
            },
            "type": "scatter3d"
           }
          ],
          "scattercarpet": [
           {
            "marker": {
             "colorbar": {
              "outlinewidth": 0,
              "ticks": ""
             }
            },
            "type": "scattercarpet"
           }
          ],
          "scattergeo": [
           {
            "marker": {
             "colorbar": {
              "outlinewidth": 0,
              "ticks": ""
             }
            },
            "type": "scattergeo"
           }
          ],
          "scattergl": [
           {
            "marker": {
             "colorbar": {
              "outlinewidth": 0,
              "ticks": ""
             }
            },
            "type": "scattergl"
           }
          ],
          "scattermap": [
           {
            "marker": {
             "colorbar": {
              "outlinewidth": 0,
              "ticks": ""
             }
            },
            "type": "scattermap"
           }
          ],
          "scattermapbox": [
           {
            "marker": {
             "colorbar": {
              "outlinewidth": 0,
              "ticks": ""
             }
            },
            "type": "scattermapbox"
           }
          ],
          "scatterpolar": [
           {
            "marker": {
             "colorbar": {
              "outlinewidth": 0,
              "ticks": ""
             }
            },
            "type": "scatterpolar"
           }
          ],
          "scatterpolargl": [
           {
            "marker": {
             "colorbar": {
              "outlinewidth": 0,
              "ticks": ""
             }
            },
            "type": "scatterpolargl"
           }
          ],
          "scatterternary": [
           {
            "marker": {
             "colorbar": {
              "outlinewidth": 0,
              "ticks": ""
             }
            },
            "type": "scatterternary"
           }
          ],
          "surface": [
           {
            "colorbar": {
             "outlinewidth": 0,
             "ticks": ""
            },
            "colorscale": [
             [
              0,
              "#0d0887"
             ],
             [
              0.1111111111111111,
              "#46039f"
             ],
             [
              0.2222222222222222,
              "#7201a8"
             ],
             [
              0.3333333333333333,
              "#9c179e"
             ],
             [
              0.4444444444444444,
              "#bd3786"
             ],
             [
              0.5555555555555556,
              "#d8576b"
             ],
             [
              0.6666666666666666,
              "#ed7953"
             ],
             [
              0.7777777777777778,
              "#fb9f3a"
             ],
             [
              0.8888888888888888,
              "#fdca26"
             ],
             [
              1,
              "#f0f921"
             ]
            ],
            "type": "surface"
           }
          ],
          "table": [
           {
            "cells": {
             "fill": {
              "color": "#EBF0F8"
             },
             "line": {
              "color": "white"
             }
            },
            "header": {
             "fill": {
              "color": "#C8D4E3"
             },
             "line": {
              "color": "white"
             }
            },
            "type": "table"
           }
          ]
         },
         "layout": {
          "annotationdefaults": {
           "arrowcolor": "#2a3f5f",
           "arrowhead": 0,
           "arrowwidth": 1
          },
          "autotypenumbers": "strict",
          "coloraxis": {
           "colorbar": {
            "outlinewidth": 0,
            "ticks": ""
           }
          },
          "colorscale": {
           "diverging": [
            [
             0,
             "#8e0152"
            ],
            [
             0.1,
             "#c51b7d"
            ],
            [
             0.2,
             "#de77ae"
            ],
            [
             0.3,
             "#f1b6da"
            ],
            [
             0.4,
             "#fde0ef"
            ],
            [
             0.5,
             "#f7f7f7"
            ],
            [
             0.6,
             "#e6f5d0"
            ],
            [
             0.7,
             "#b8e186"
            ],
            [
             0.8,
             "#7fbc41"
            ],
            [
             0.9,
             "#4d9221"
            ],
            [
             1,
             "#276419"
            ]
           ],
           "sequential": [
            [
             0,
             "#0d0887"
            ],
            [
             0.1111111111111111,
             "#46039f"
            ],
            [
             0.2222222222222222,
             "#7201a8"
            ],
            [
             0.3333333333333333,
             "#9c179e"
            ],
            [
             0.4444444444444444,
             "#bd3786"
            ],
            [
             0.5555555555555556,
             "#d8576b"
            ],
            [
             0.6666666666666666,
             "#ed7953"
            ],
            [
             0.7777777777777778,
             "#fb9f3a"
            ],
            [
             0.8888888888888888,
             "#fdca26"
            ],
            [
             1,
             "#f0f921"
            ]
           ],
           "sequentialminus": [
            [
             0,
             "#0d0887"
            ],
            [
             0.1111111111111111,
             "#46039f"
            ],
            [
             0.2222222222222222,
             "#7201a8"
            ],
            [
             0.3333333333333333,
             "#9c179e"
            ],
            [
             0.4444444444444444,
             "#bd3786"
            ],
            [
             0.5555555555555556,
             "#d8576b"
            ],
            [
             0.6666666666666666,
             "#ed7953"
            ],
            [
             0.7777777777777778,
             "#fb9f3a"
            ],
            [
             0.8888888888888888,
             "#fdca26"
            ],
            [
             1,
             "#f0f921"
            ]
           ]
          },
          "colorway": [
           "#636efa",
           "#EF553B",
           "#00cc96",
           "#ab63fa",
           "#FFA15A",
           "#19d3f3",
           "#FF6692",
           "#B6E880",
           "#FF97FF",
           "#FECB52"
          ],
          "font": {
           "color": "#2a3f5f"
          },
          "geo": {
           "bgcolor": "white",
           "lakecolor": "white",
           "landcolor": "#E5ECF6",
           "showlakes": true,
           "showland": true,
           "subunitcolor": "white"
          },
          "hoverlabel": {
           "align": "left"
          },
          "hovermode": "closest",
          "mapbox": {
           "style": "light"
          },
          "paper_bgcolor": "white",
          "plot_bgcolor": "#E5ECF6",
          "polar": {
           "angularaxis": {
            "gridcolor": "white",
            "linecolor": "white",
            "ticks": ""
           },
           "bgcolor": "#E5ECF6",
           "radialaxis": {
            "gridcolor": "white",
            "linecolor": "white",
            "ticks": ""
           }
          },
          "scene": {
           "xaxis": {
            "backgroundcolor": "#E5ECF6",
            "gridcolor": "white",
            "gridwidth": 2,
            "linecolor": "white",
            "showbackground": true,
            "ticks": "",
            "zerolinecolor": "white"
           },
           "yaxis": {
            "backgroundcolor": "#E5ECF6",
            "gridcolor": "white",
            "gridwidth": 2,
            "linecolor": "white",
            "showbackground": true,
            "ticks": "",
            "zerolinecolor": "white"
           },
           "zaxis": {
            "backgroundcolor": "#E5ECF6",
            "gridcolor": "white",
            "gridwidth": 2,
            "linecolor": "white",
            "showbackground": true,
            "ticks": "",
            "zerolinecolor": "white"
           }
          },
          "shapedefaults": {
           "line": {
            "color": "#2a3f5f"
           }
          },
          "ternary": {
           "aaxis": {
            "gridcolor": "white",
            "linecolor": "white",
            "ticks": ""
           },
           "baxis": {
            "gridcolor": "white",
            "linecolor": "white",
            "ticks": ""
           },
           "bgcolor": "#E5ECF6",
           "caxis": {
            "gridcolor": "white",
            "linecolor": "white",
            "ticks": ""
           }
          },
          "title": {
           "x": 0.05
          },
          "xaxis": {
           "automargin": true,
           "gridcolor": "white",
           "linecolor": "white",
           "ticks": "",
           "title": {
            "standoff": 15
           },
           "zerolinecolor": "white",
           "zerolinewidth": 2
          },
          "yaxis": {
           "automargin": true,
           "gridcolor": "white",
           "linecolor": "white",
           "ticks": "",
           "title": {
            "standoff": 15
           },
           "zerolinecolor": "white",
           "zerolinewidth": 2
          }
         }
        },
        "title": {
         "text": "Equity vs Bonds Over Time"
        },
        "xaxis": {
         "anchor": "y",
         "domain": [
          0,
          1
         ],
         "title": {
          "text": "Date"
         }
        },
        "yaxis": {
         "anchor": "x",
         "domain": [
          0,
          1
         ],
         "title": {
          "text": "value"
         }
        }
       }
      }
     },
     "metadata": {},
     "output_type": "display_data"
    }
   ],
   "source": [
    "# Sample DataFrame\n",
    "data = {\n",
    "    'Date': pd.date_range(start='2023-01-01', periods=10, freq='D'),\n",
    "    'Equity': [100, 105, 110, 107, 115, 120, 125, 130, 128, 135],\n",
    "    'Bonds': [50, 52, 53, 54, 56, 58, 59, 60, 61, 63]\n",
    "}\n",
    "\n",
    "df = pd.DataFrame(data)\n",
    "\n",
    "# Create a line plot\n",
    "fig = px.line(df, x='Date', y=['Equity', 'Bonds'], title='Equity vs Bonds Over Time')\n",
    "\n",
    "# Show the figure\n",
    "fig.show()"
   ]
  },
  {
   "cell_type": "code",
   "execution_count": 2,
   "metadata": {},
   "outputs": [
    {
     "name": "stdout",
     "output_type": "stream",
     "text": [
      "amzn\n",
      "app\n",
      "ba\n",
      "blk\n",
      "cost\n",
      "lly\n",
      "xom\n",
      "gme\n",
      "gld\n",
      "goog\n",
      "msft\n",
      "nflx\n",
      "nvda\n",
      "pltr\n",
      "pfe\n",
      "tsla\n",
      "v\n",
      "vlcn\n"
     ]
    }
   ],
   "source": [
    "STOCK_DATA_DICT = {\n",
    "    'Amazon': 'AMZN',\n",
    "    'Apple': 'APP',\n",
    "    'Boeing Co': 'BA',\n",
    "    'BlackRock Inc': 'BLK',\n",
    "    'Costco': 'COST',\n",
    "    'Eli Lilly And Co': 'LLY',\n",
    "    'Exxon Mobil': 'XOM',\n",
    "    'GameStop': 'GME',\n",
    "    'Gold': 'GLD',\n",
    "    'Google': 'GOOG',\n",
    "    'Microsoft': 'MSFT',\n",
    "    'Netflix Inc': 'NFLX',\n",
    "    'Nvidia': 'NVDA',\n",
    "    'Palantir Technologies Inc': 'PLTR',\n",
    "    'Pfizer Inc': 'PFE',\n",
    "    'Tesla': 'TSLA',\n",
    "    'Visa': 'V',\n",
    "    'Volcon Inc': 'VLCN'\n",
    "}\n",
    "\n",
    "for company, stock_symbol in STOCK_DATA_DICT.items():\n",
    "    print(stock_symbol.lower())"
   ]
  },
  {
   "cell_type": "code",
   "execution_count": 9,
   "metadata": {},
   "outputs": [
    {
     "name": "stdout",
     "output_type": "stream",
     "text": [
      "2018-01-01\n",
      "2025-02-19 16:58:00.795211\n",
      "2025-02-19\n"
     ]
    }
   ],
   "source": [
    "START_DATE = \"2018-01-01\"\n",
    "TODAY = datetime.today()\n",
    "END_DATE = datetime.today().date()\n",
    "\n",
    "print(START_DATE)\n",
    "print(TODAY)\n",
    "print(END_DATE)"
   ]
  },
  {
   "cell_type": "code",
   "execution_count": null,
   "metadata": {},
   "outputs": [],
   "source": []
  }
 ],
 "metadata": {
  "kernelspec": {
   "display_name": "Python 3",
   "language": "python",
   "name": "python3"
  },
  "language_info": {
   "codemirror_mode": {
    "name": "ipython",
    "version": 3
   },
   "file_extension": ".py",
   "mimetype": "text/x-python",
   "name": "python",
   "nbconvert_exporter": "python",
   "pygments_lexer": "ipython3",
   "version": "3.10.2"
  }
 },
 "nbformat": 4,
 "nbformat_minor": 2
}
