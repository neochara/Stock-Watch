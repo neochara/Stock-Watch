{
 "cells": [
  {
   "cell_type": "code",
   "execution_count": 1,
   "metadata": {},
   "outputs": [
    {
     "name": "stdout",
     "output_type": "stream",
     "text": [
      "Base Path: /Users/neo_chara/Desktop/Projects/Stock-Watch\n",
      "Stocks: ['NVDA', 'TSLA', 'AMZN', 'MSFT', 'COST']\n",
      "Company Names: {'NVDA': 'Nvidia', 'TSLA': 'Tesla', 'AMZN': 'Amazon', 'MSFT': 'Microsoft', 'COST': 'Costco'}\n",
      "File Path: /Users/neo_chara/Desktop/Projects/Stock-Watch/data/nvda_stock.csv\n"
     ]
    }
   ],
   "source": [
    "import json\n",
    "import os\n"
   ]
  },
  {
   "cell_type": "code",
   "execution_count": null,
   "metadata": {},
   "outputs": [],
   "source": [
    "\n",
    "# Load configuration file\n",
    "config_path = \"config.json\"\n",
    "with open(config_path, \"r\") as file:\n",
    "    config = json.load(file)\n",
    "\n",
    "# Access configurations\n",
    "base_path = config[\"base_path\"]\n",
    "stock_list = config[\"stock_list\"]\n",
    "stock_name_data_dict = config[\"stock_name_data_dict\"]\n",
    "data_parameters = config[\"data_parameters\"]\n",
    "plot_settings = config[\"plot_settings\"]\n",
    "openai_api_key = config[\"api_keys\"][\"openai\"]\n",
    "\n",
    "# Example usage\n",
    "print(\"Base Path:\", base_path)\n",
    "print(\"Stocks:\", stock_list)\n",
    "print(\"Company Names:\", stock_name_data_dict)\n",
    "\n",
    "# Example: Use configuration for file path\n",
    "file_path = os.path.join(base_path, \"data\", \"nvda_stock.csv\")\n",
    "print(\"File Path:\", file_path)\n"
   ]
  },
  {
   "cell_type": "code",
   "execution_count": null,
   "metadata": {},
   "outputs": [],
   "source": []
  }
 ],
 "metadata": {
  "kernelspec": {
   "display_name": "Python 3",
   "language": "python",
   "name": "python3"
  },
  "language_info": {
   "codemirror_mode": {
    "name": "ipython",
    "version": 3
   },
   "file_extension": ".py",
   "mimetype": "text/x-python",
   "name": "python",
   "nbconvert_exporter": "python",
   "pygments_lexer": "ipython3",
   "version": "3.10.2"
  }
 },
 "nbformat": 4,
 "nbformat_minor": 2
}
